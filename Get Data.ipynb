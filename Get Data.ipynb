{
 "cells": [
  {
   "cell_type": "code",
   "execution_count": 1,
   "metadata": {},
   "outputs": [],
   "source": [
    "import pymysql.cursors\n",
    "import pandas as pd\n",
    "import numpy as np\n",
    "import csv\n",
    "import re\n",
    "\n",
    "# Connect to the database\n",
    "connection = pymysql.connect(host='localhost',\n",
    "                             user='root',\n",
    "                             password='',\n",
    "                             db='drama_ojol',\n",
    "                             charset='utf8mb4',\n",
    "                             cursorclass=pymysql.cursors.DictCursor)\n",
    "\n",
    "try:\n",
    "    with connection.cursor() as cursor:\n",
    "        # Read a single record\n",
    "        cursor.execute(\"SELECT preprocess FROM opinions where id > 5302\")\n",
    "#         cursor.execute(\"SELECT preprocess FROM opinions\")\n",
    "        data_reviews = cursor.fetchall()\n",
    "        data_review = []\n",
    "        \n",
    "        \n",
    "        for row in data_reviews:\n",
    "            data_review.append(row['preprocess'])\n",
    "        reviewdf = pd.DataFrame(np.array(data_review))\n",
    "        reviewdf.head(5)\n",
    "        \n",
    "        reviewdf.to_csv('data_tes.csv', encoding='utf-8', index = False)\n",
    "        \n",
    "finally:\n",
    "    connection.close()"
   ]
  },
  {
   "cell_type": "code",
   "execution_count": null,
   "metadata": {},
   "outputs": [],
   "source": []
  }
 ],
 "metadata": {
  "kernelspec": {
   "display_name": "Python 3",
   "language": "python",
   "name": "python3"
  },
  "language_info": {
   "codemirror_mode": {
    "name": "ipython",
    "version": 3
   },
   "file_extension": ".py",
   "mimetype": "text/x-python",
   "name": "python",
   "nbconvert_exporter": "python",
   "pygments_lexer": "ipython3",
   "version": "3.6.5"
  }
 },
 "nbformat": 4,
 "nbformat_minor": 2
}

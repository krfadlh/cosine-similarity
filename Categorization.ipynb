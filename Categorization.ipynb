{
 "cells": [
  {
   "cell_type": "code",
   "execution_count": 1,
   "metadata": {},
   "outputs": [],
   "source": [
    "from collections import Counter\n",
    "import pandas as pd\n",
    "import numpy as np\n",
    "import re\n",
    "from pprint import pprint"
   ]
  },
  {
   "cell_type": "code",
   "execution_count": 2,
   "metadata": {},
   "outputs": [],
   "source": [
    "def processTweet(tweet):\n",
    "    #Convert to lower case\n",
    "    tweet = tweet.lower()\n",
    "    #Convert www.* or https?://* to URL\n",
    "    tweet = re.sub('((www\\.[^\\s]+)|(https?://[^\\s]+))','URL',tweet)\n",
    "    #Remove additional white spaces\n",
    "    tweet = re.sub('[\\s]+', ' ', tweet)\n",
    "    #Replace #word with word\n",
    "    tweet = re.sub(r'#([^\\s]+)', r'\\1', tweet)\n",
    "    tweet = re.sub('\\.+','.',tweet);\n",
    "    tweet = re.sub('\\,+',',',tweet);\n",
    "    tweet = re.sub('\\\"+','\"',tweet); #Remove tanda \"\"\n",
    "    tweet = tweet.replace(\"/ \",\"/\");\n",
    "    tweet = tweet.replace(\"www. \",\"www.\");\n",
    "    tweet = re.sub(r'RT', '', tweet);\n",
    "    tweet = re.sub(r'http\\S+', '', tweet, flags=re.MULTILINE);\n",
    "    tweet = re.sub(r'@([A-Za-z0-9_]+)', '', tweet, flags=re.MULTILINE);\n",
    "    tweet = re.sub(r'pic.twitter.com/\\S+', '', tweet, flags=re.MULTILINE);\n",
    "    tweet = tweet.replace(\"?\",\" ? \");\n",
    "    tweet = tweet.replace(\"-\",\" \");\n",
    "    tweet = tweet.replace(\"/\",\" \");\n",
    "    tweet = tweet.replace(\"[\",\" \");\n",
    "    tweet = tweet.replace(\"]\",\" \");\n",
    "    tweet = tweet.replace(\".\",\" \");\n",
    "    tweet = tweet.replace(\",\",\" \");\n",
    "    tweet = re.sub(r'[^a-z0-9.,?# -]', ' ', tweet, flags = re.IGNORECASE|re.MULTILINE)\n",
    "    tweet = re.sub(\" \\d+\", \" \", tweet)\n",
    "    tweet = re.sub(r'( +)', ' ', tweet, flags = re.IGNORECASE|re.MULTILINE)\n",
    "    #trim\n",
    "    tweet = tweet.strip('\\'\"')\n",
    "#     print(tweet)\n",
    "#     print(' ')\n",
    "    return tweet"
   ]
  },
  {
   "cell_type": "code",
   "execution_count": 3,
   "metadata": {},
   "outputs": [],
   "source": [
    "#Read the tweets one by one and process it\n",
    "dokumen = []\n",
    "docs, index = [], []\n",
    "fp = open('tes.csv', 'r')\n",
    "line = fp.readline()\n",
    "while line:\n",
    "    processedTweet = processTweet(line)\n",
    "    dokumen.append(processedTweet.split(' '))\n",
    "    line = fp.readline()\n",
    "fp.close()"
   ]
  },
  {
   "cell_type": "code",
   "execution_count": 33,
   "metadata": {},
   "outputs": [],
   "source": [
    "datasets = pd.read_csv(\"data/penumpang.csv\",sep=\",\", header=None)\n",
    "datasets.columns = ['kategori']\n",
    "\n",
    "# print(datasets['kategori'][0])\n",
    "# if(datasets['kategori'][0]==\"aplikas\"):\n",
    "#     print(\"ada\")"
   ]
  },
  {
   "cell_type": "code",
   "execution_count": 34,
   "metadata": {},
   "outputs": [],
   "source": [
    "df_index = pd.DataFrame({\n",
    "    'kata':datasets['kategori']\n",
    "})"
   ]
  },
  {
   "cell_type": "code",
   "execution_count": null,
   "metadata": {},
   "outputs": [],
   "source": [
    "for i in range(len(dokumen)):\n",
    "    terdeteksi = []\n",
    "    for kata in datasets['kategori']:\n",
    "#         print(kata)\n",
    "#         print(dokumen[i].count(kata))\n",
    "#         print(\" \")\n",
    "        terdeteksi.append(dokumen[i].count(kata))\n",
    "        df_index[i+1] = pd.Series(terdeteksi)"
   ]
  },
  {
   "cell_type": "code",
   "execution_count": 32,
   "metadata": {},
   "outputs": [],
   "source": [
    "df_index.to_csv(\"data/index.csv\", index=False)"
   ]
  },
  {
   "cell_type": "code",
   "execution_count": null,
   "metadata": {},
   "outputs": [],
   "source": []
  }
 ],
 "metadata": {
  "kernelspec": {
   "display_name": "Python 3",
   "language": "python",
   "name": "python3"
  },
  "language_info": {
   "codemirror_mode": {
    "name": "ipython",
    "version": 3
   },
   "file_extension": ".py",
   "mimetype": "text/x-python",
   "name": "python",
   "nbconvert_exporter": "python",
   "pygments_lexer": "ipython3",
   "version": "3.6.5"
  }
 },
 "nbformat": 4,
 "nbformat_minor": 2
}

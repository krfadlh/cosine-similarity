{
 "cells": [
  {
   "cell_type": "code",
   "execution_count": 19,
   "metadata": {},
   "outputs": [],
   "source": [
    "import MySQLdb"
   ]
  },
  {
   "cell_type": "code",
   "execution_count": 20,
   "metadata": {},
   "outputs": [
    {
     "data": {
      "text/plain": [
       "0"
      ]
     },
     "execution_count": 20,
     "metadata": {},
     "output_type": "execute_result"
    }
   ],
   "source": [
    "hostname = \"localhost\"\n",
    "username = \"root\"\n",
    "password = \"\"\n",
    "db_name  = \"drama_ojol\"\n",
    "\n",
    "# Open database connection\n",
    "db = MySQLdb.connect(hostname,username,password,db_name)\n",
    "db.set_character_set('utf8')\n",
    "\n",
    "# prepare a cursor object using cursor() method\n",
    "cursor = db.cursor()\n",
    "cursor.execute('SET NAMES utf8;')\n",
    "cursor.execute('SET CHARACTER SET utf8;')\n",
    "cursor.execute('SET character_set_connection=utf8;')"
   ]
  },
  {
   "cell_type": "code",
   "execution_count": 21,
   "metadata": {},
   "outputs": [],
   "source": [
    "def executeSql(sql):\n",
    "    return cursor.execute(sql);\n",
    "\n",
    "def fetch(type='all'):\n",
    "    if type=='all':\n",
    "        return cursor.fetchall();\n",
    "    else:\n",
    "        return cursor.fetchone();\n",
    "def commit():\n",
    "    db.commit();\n",
    "\n",
    "def escapeString(string):\n",
    "    return MySQLdb.escape_string(string);\n",
    "\n",
    "totalAplikasi = {'app_tp':0,'app_tn':0,'app_fp':0,'app_fn':0};\n",
    "totalHarga = {'harga_tp':0,'harga_tn':0,'harga_fp':0,'harga_fn':0};\n",
    "totalDriver = {'driver_tp':0,'driver_tn':0,'driver_fp':0,'driver_fn':0};\n",
    "totalPenumpang = {'cust_tp':0,'cust_tn':0,'cust_fp':0,'cus_fn':0};\n",
    "totalPerusahaan = {'comp_tp':0,'comp_tn':0,'comp_fp':0,'comp_fn':0};"
   ]
  },
  {
   "cell_type": "markdown",
   "metadata": {},
   "source": [
    "# Hitung data untuk Akurasi Aplikasi"
   ]
  },
  {
   "cell_type": "code",
   "execution_count": 33,
   "metadata": {},
   "outputs": [],
   "source": [
    "def initialaplikasi():\n",
    "    global totalAplikasi;\n",
    "    sql = '''SELECT count(*)\n",
    "                FROM opinions WHERE cat_training = 1 AND cat_result like \"aplikasi\" AND id < 999''';\n",
    "    executeSql(sql);\n",
    "    result = fetch('all');\n",
    "    totalAplikasi['app_tp'] = result[0][0];\n",
    "    \n",
    "    sql = '''SELECT count(*)\n",
    "                FROM opinions WHERE cat_training =!1 AND cat_result not like \"aplikasi\" AND id < 999''';\n",
    "    executeSql(sql);\n",
    "    result = fetch('all');\n",
    "    totalAplikasi['app_tn'] = result[0][0];\n",
    "    \n",
    "    sql = '''SELECT count(*)\n",
    "                FROM opinions WHERE cat_training =!1 AND cat_result like \"aplikasi\" AND id < 999''';\n",
    "    executeSql(sql);\n",
    "    result = fetch('all');\n",
    "    totalAplikasi['app_fp'] = result[0][0];\n",
    "    \n",
    "    sql = '''SELECT count(*)\n",
    "                FROM opinions WHERE cat_training = 1 AND cat_result not like \"aplikasi\" AND id < 999''';\n",
    "    executeSql(sql);\n",
    "    result = fetch('all');\n",
    "    totalAplikasi['app_fn'] = result[0][0];\n",
    "    \n",
    "    print(\"TP = \",  totalAplikasi['app_tp'])\n",
    "    print(\"TN = \",  totalAplikasi['app_tn'])\n",
    "    print(\"FP = \",  totalAplikasi['app_fp'])\n",
    "    print(\"FN = \",  totalAplikasi['app_fn'])\n",
    "    \n",
    "    totalAplikasi['data'] = totalAplikasi['app_fn'] + totalAplikasi['app_fp'] + totalAplikasi['app_tn'] + totalAplikasi['app_tp'];"
   ]
  },
  {
   "cell_type": "markdown",
   "metadata": {},
   "source": [
    "# Hitung data untuk Akurasi Harga"
   ]
  },
  {
   "cell_type": "code",
   "execution_count": 23,
   "metadata": {},
   "outputs": [],
   "source": [
    "def initialharga():\n",
    "    global totalHarga;\n",
    "    sql = '''SELECT count(*)\n",
    "                FROM opinions WHERE cat_training = 2 AND cat_result like \"harga\" AND id < 999''';\n",
    "    executeSql(sql);\n",
    "    result = fetch('all');\n",
    "    totalHarga['harga_tp'] = result[0][0];\n",
    "    \n",
    "    sql = '''SELECT count(*)\n",
    "                FROM opinions WHERE cat_training =!2 AND cat_result not like \"harga\" AND id < 999''';\n",
    "    executeSql(sql);\n",
    "    result = fetch('all');\n",
    "    totalHarga['harga_tn'] = result[0][0];\n",
    "    \n",
    "    sql = '''SELECT count(*)\n",
    "                FROM opinions WHERE cat_training =!2 AND cat_result like \"harga\" AND id < 999''';\n",
    "    executeSql(sql);\n",
    "    result = fetch('all');\n",
    "    totalHarga['harga_fp'] = result[0][0];\n",
    "    \n",
    "    sql = '''SELECT count(*)\n",
    "                FROM opinions WHERE cat_training = 2 AND cat_result not like \"harga\" AND id < 999''';\n",
    "    executeSql(sql);\n",
    "    result = fetch('all');\n",
    "    totalHarga['harga_fn'] = result[0][0];\n",
    "    \n",
    "    print(\"TP = \",  totalHarga['harga_tp'])\n",
    "    print(\"TN = \",  totalHarga['harga_tn'])\n",
    "    print(\"FP = \",  totalHarga['harga_fp'])\n",
    "    print(\"FN = \",  totalHarga['harga_fn'])\n",
    "    \n",
    "    totalHarga['data'] = totalHarga['harga_fn'] + totalHarga['harga_fp'] + totalHarga['harga_tn'] + totalHarga['harga_tp'];"
   ]
  },
  {
   "cell_type": "markdown",
   "metadata": {},
   "source": [
    "# Hitung data untuk Akurasi Driver"
   ]
  },
  {
   "cell_type": "code",
   "execution_count": 24,
   "metadata": {},
   "outputs": [],
   "source": [
    "def initialdriver():\n",
    "    global totalDriver;\n",
    "    sql = '''SELECT count(*)\n",
    "                FROM opinions WHERE cat_training = 3 AND cat_result like \"driver\" AND id < 999''';\n",
    "    executeSql(sql);\n",
    "    result = fetch('all');\n",
    "    totalDriver['driver_tp'] = result[0][0];\n",
    "    \n",
    "    sql = '''SELECT count(*)\n",
    "                FROM opinions WHERE cat_training =!3 AND cat_result not like \"driver\" AND id < 999''';\n",
    "    executeSql(sql);\n",
    "    result = fetch('all');\n",
    "    totalDriver['driver_tn'] = result[0][0];\n",
    "    \n",
    "    sql = '''SELECT count(*)\n",
    "                FROM opinions WHERE cat_training =!3 AND cat_result like \"driver\" AND id < 999''';\n",
    "    executeSql(sql);\n",
    "    result = fetch('all');\n",
    "    totalDriver['driver_fp'] = result[0][0];\n",
    "    \n",
    "    sql = '''SELECT count(*)\n",
    "                FROM opinions WHERE cat_training = 3 AND cat_result not like \"driver\" AND id < 999''';\n",
    "    executeSql(sql);\n",
    "    result = fetch('all');\n",
    "    totalDriver['driver_fn'] = result[0][0];\n",
    "    \n",
    "    print(\"TP = \",  totalDriver['driver_tp'])\n",
    "    print(\"TN = \",  totalDriver['driver_tn'])\n",
    "    print(\"FP = \",  totalDriver['driver_fp'])\n",
    "    print(\"FN = \",  totalDriver['driver_fn'])\n",
    "    \n",
    "    totalDriver['data'] = totalDriver['driver_fn'] + totalDriver['driver_fp'] + totalDriver['driver_tn'] + totalDriver['driver_tp'];"
   ]
  },
  {
   "cell_type": "markdown",
   "metadata": {},
   "source": [
    "# Hitung data untuk Akurasi Penumpang"
   ]
  },
  {
   "cell_type": "code",
   "execution_count": 25,
   "metadata": {},
   "outputs": [],
   "source": [
    "def initialpenumpang():\n",
    "    global totalPenumpang;\n",
    "    sql = '''SELECT count(*)\n",
    "                FROM opinions WHERE cat_training = 4 AND cat_result like \"penumpang\" AND id < 999''';\n",
    "    executeSql(sql);\n",
    "    result = fetch('all');\n",
    "    totalPenumpang['cust_tp'] = result[0][0];\n",
    "    \n",
    "    sql = '''SELECT count(*)\n",
    "                FROM opinions WHERE cat_training =!4 AND cat_result not like \"penumpang\" AND id < 999''';\n",
    "    executeSql(sql);\n",
    "    result = fetch('all');\n",
    "    totalPenumpang['cust_tn'] = result[0][0];\n",
    "    \n",
    "    sql = '''SELECT count(*)\n",
    "                FROM opinions WHERE cat_training =!4 AND cat_result like \"penumpang\" AND id < 999''';\n",
    "    executeSql(sql);\n",
    "    result = fetch('all');\n",
    "    totalPenumpang['cust_fp'] = result[0][0];\n",
    "    \n",
    "    sql = '''SELECT count(*)\n",
    "                FROM opinions WHERE cat_training = 4 AND cat_result not like \"penumpang\" AND id < 999''';\n",
    "    executeSql(sql);\n",
    "    result = fetch('all');\n",
    "    totalPenumpang['cust_fn'] = result[0][0];\n",
    "    \n",
    "    print(\"TP = \",  totalPenumpang['cust_tp'])\n",
    "    print(\"TN = \",  totalPenumpang['cust_tn'])\n",
    "    print(\"FP = \",  totalPenumpang['cust_fp'])\n",
    "    print(\"FN = \",  totalPenumpang['cust_fn'])\n",
    "    \n",
    "    totalPenumpang['data'] = totalPenumpang['cust_fn'] + totalPenumpang['cust_fp'] + totalPenumpang['cust_tn'] + totalPenumpang['cust_tp'];"
   ]
  },
  {
   "cell_type": "markdown",
   "metadata": {},
   "source": [
    "# Hitung data untuk Akurasi Perusahaan"
   ]
  },
  {
   "cell_type": "code",
   "execution_count": 26,
   "metadata": {},
   "outputs": [],
   "source": [
    "def initialperusahaan():\n",
    "    global totalPerusahaan;\n",
    "    sql = '''SELECT count(*)\n",
    "                FROM opinions WHERE cat_training = 5 AND cat_result like \"perusahaan\" AND id < 999''';\n",
    "    executeSql(sql);\n",
    "    result = fetch('all');\n",
    "    totalPerusahaan['comp_tp'] = result[0][0];\n",
    "    \n",
    "    sql = '''SELECT count(*)\n",
    "                FROM opinions WHERE cat_training =!5 AND cat_result not like \"perusahaan\" AND id < 999''';\n",
    "    executeSql(sql);\n",
    "    result = fetch('all');\n",
    "    totalPerusahaan['comp_tn'] = result[0][0];\n",
    "    \n",
    "    sql = '''SELECT count(*)\n",
    "                FROM opinions WHERE cat_training =!5 AND cat_result like \"perusahaan\" AND id < 999''';\n",
    "    executeSql(sql);\n",
    "    result = fetch('all');\n",
    "    totalPerusahaan['comp_fp'] = result[0][0];\n",
    "    \n",
    "    sql = '''SELECT count(*)\n",
    "                FROM opinions WHERE cat_training = 5 AND cat_result not like \"perusahaan\" AND id < 999''';\n",
    "    executeSql(sql);\n",
    "    result = fetch('all');\n",
    "    totalPerusahaan['comp_fn'] = result[0][0];\n",
    "    \n",
    "    print(\"TP = \",  totalPerusahaan['comp_tp'])\n",
    "    print(\"TN = \",  totalPerusahaan['comp_tn'])\n",
    "    print(\"FP = \",  totalPerusahaan['comp_fp'])\n",
    "    print(\"FN = \",  totalPerusahaan['comp_fn'])\n",
    "    \n",
    "    totalPerusahaan['data'] = totalPerusahaan['comp_fn'] + totalPerusahaan['comp_fp'] + totalPerusahaan['comp_tn'] + totalPerusahaan['comp_tp'];"
   ]
  },
  {
   "cell_type": "markdown",
   "metadata": {},
   "source": [
    "# Fungsi Akurasi Aplikasi"
   ]
  },
  {
   "cell_type": "code",
   "execution_count": 35,
   "metadata": {},
   "outputs": [],
   "source": [
    "def countAccuracyApp():   \n",
    "    global totalAplikasi;\n",
    "    initialaplikasi()\n",
    "    return (totalAplikasi['app_tn']+totalAplikasi['app_tp'])/totalAplikasi['data'];\n",
    "def precisionApp():\n",
    "    global totalAplikasi;\n",
    "    initialaplikasi()\n",
    "    return totalAplikasi['app_tp']/(totalAplikasi['app_fp']+totalAplikasi['app_tp']);\n",
    "def recallApp():\n",
    "    global totalAplikasi;\n",
    "    initialaplikasi()\n",
    "    return totalAplikasi['app_tp']/(totalAplikasi['app_fn']+totalAplikasi['app_tp']);"
   ]
  },
  {
   "cell_type": "markdown",
   "metadata": {},
   "source": [
    "# Fungsi Akurasi Harga"
   ]
  },
  {
   "cell_type": "code",
   "execution_count": 28,
   "metadata": {},
   "outputs": [],
   "source": [
    "def countAccuracyHarga():   \n",
    "    global totalHarga;\n",
    "    initialharga()\n",
    "    return (totalHarga['harga_tn']+totalHarga['harga_tp'])/totalHarga['data'];\n",
    "def precisionHarga():\n",
    "    global totalHarga;\n",
    "    initialharga()\n",
    "    return totalHarga['harga_tp']/(totalHarga['harga_fp']+totalHarga['harga_tp']);\n",
    "def recallHarga():\n",
    "    global totalHarga;\n",
    "    initialharga()\n",
    "    return totalHarga['harga_tp']/(totalHarga['harga_fn']+totalHarga['harga_tp']);"
   ]
  },
  {
   "cell_type": "markdown",
   "metadata": {},
   "source": [
    "# Fungsi Akurasi Driver"
   ]
  },
  {
   "cell_type": "code",
   "execution_count": 29,
   "metadata": {},
   "outputs": [],
   "source": [
    "def countAccuracyDriver():   \n",
    "    global totalDriver;\n",
    "    initialdriver()\n",
    "    return (totalDriver['driver_tn']+totalDriver['driver_tp'])/totalDriver['data'];\n",
    "def precisionDriver():\n",
    "    global totalDriver;\n",
    "    initialdriver()\n",
    "    return totalDriver['driver_tp']/(totalDriver['driver_fp']+totalDriver['driver_tp']);\n",
    "def recallDriver():\n",
    "    global totalDriver;\n",
    "    initialdriver()\n",
    "    return totalDriver['driver_tp']/(totalDriver['driver_fn']+totalDriver['driver_tp']);"
   ]
  },
  {
   "cell_type": "markdown",
   "metadata": {},
   "source": [
    "# Fungsi Akurasi Penumpang"
   ]
  },
  {
   "cell_type": "code",
   "execution_count": 41,
   "metadata": {},
   "outputs": [],
   "source": [
    "def countAccuracyPenumpang():   \n",
    "    global totalPenumpang;\n",
    "    initialpenumpang()\n",
    "    return (totalPenumpang['cust_tn']+totalPenumpang['cust_tp'])/totalPenumpang['data'];\n",
    "def precisionPenumpang():\n",
    "    global totalPenumpang;\n",
    "    initialpenumpang()\n",
    "    return totalPenumpang['cust_tp']/(totalPenumpang['cust_fp']+totalPenumpang['cust_tp']);\n",
    "def recallPenumpang():\n",
    "    global totalPenumpang;\n",
    "    initialpenumpang()\n",
    "    return totalPenumpang['cust_tp']/(totalPenumpang['cust_fn']+totalPenumpang['cust_tp']);"
   ]
  },
  {
   "cell_type": "markdown",
   "metadata": {},
   "source": [
    "# Fungsi Akurasi Perusahaan"
   ]
  },
  {
   "cell_type": "code",
   "execution_count": 39,
   "metadata": {},
   "outputs": [],
   "source": [
    "def countAccuracyPerusahaan():   \n",
    "    global totalPerusahaan;\n",
    "    initialperusahaan()\n",
    "    return (totalPerusahaan['comp_tn']+totalPerusahaan['comp_tp'])/totalPerusahaan['data'];\n",
    "def precisionPerusahaan():\n",
    "    global totalPerusahaan;\n",
    "    initialperusahaan()\n",
    "    return totalPerusahaan['comp_tp']/(totalPerusahaan['comp_fp']+totalPerusahaan['comp_tp']);\n",
    "def recallPerusahaan():\n",
    "    global totalPerusahaan;\n",
    "    initialperusahaan()\n",
    "    return totalPerusahaan['comp_tp']/(totalPerusahaan['comp_fn']+totalPerusahaan['comp_tp']);"
   ]
  },
  {
   "cell_type": "markdown",
   "metadata": {},
   "source": [
    "# Akurasi Aplikasi"
   ]
  },
  {
   "cell_type": "code",
   "execution_count": 36,
   "metadata": {},
   "outputs": [
    {
     "name": "stdout",
     "output_type": "stream",
     "text": [
      "TP =  126\n",
      "TN =  0\n",
      "FP =  0\n",
      "FN =  242\n",
      "Akurasi = 0.3423913043478261\n",
      "TP =  126\n",
      "TN =  0\n",
      "FP =  0\n",
      "FN =  242\n",
      "Precision =  1.0\n",
      "TP =  126\n",
      "TN =  0\n",
      "FP =  0\n",
      "FN =  242\n",
      "Recall =  0.3423913043478261\n"
     ]
    }
   ],
   "source": [
    "print(\"Akurasi =\",countAccuracyApp())\n",
    "print(\"Precision = \",precisionApp())\n",
    "print(\"Recall = \",recallApp())"
   ]
  },
  {
   "cell_type": "markdown",
   "metadata": {},
   "source": [
    "# Akurasi Harga"
   ]
  },
  {
   "cell_type": "code",
   "execution_count": 37,
   "metadata": {},
   "outputs": [
    {
     "name": "stdout",
     "output_type": "stream",
     "text": [
      "TP =  32\n",
      "TN =  0\n",
      "FP =  0\n",
      "FN =  32\n",
      "Akurasi = 0.5\n",
      "TP =  32\n",
      "TN =  0\n",
      "FP =  0\n",
      "FN =  32\n",
      "Precision =  1.0\n",
      "TP =  32\n",
      "TN =  0\n",
      "FP =  0\n",
      "FN =  32\n",
      "Recall =  0.5\n"
     ]
    }
   ],
   "source": [
    "print(\"Akurasi =\",countAccuracyHarga())\n",
    "print(\"Precision = \",precisionHarga())\n",
    "print(\"Recall = \",recallHarga())"
   ]
  },
  {
   "cell_type": "markdown",
   "metadata": {},
   "source": [
    "# Akurasi Driver"
   ]
  },
  {
   "cell_type": "code",
   "execution_count": 42,
   "metadata": {},
   "outputs": [
    {
     "name": "stdout",
     "output_type": "stream",
     "text": [
      "TP =  162\n",
      "TN =  0\n",
      "FP =  0\n",
      "FN =  112\n",
      "Akurasi = 0.5912408759124088\n",
      "TP =  67\n",
      "TN =  0\n",
      "FP =  0\n",
      "FN =  182\n"
     ]
    },
    {
     "ename": "KeyError",
     "evalue": "'cust_tp'",
     "output_type": "error",
     "traceback": [
      "\u001b[1;31m---------------------------------------------------------------------------\u001b[0m",
      "\u001b[1;31mKeyError\u001b[0m                                  Traceback (most recent call last)",
      "\u001b[1;32m<ipython-input-42-47630bbd7f45>\u001b[0m in \u001b[0;36m<module>\u001b[1;34m()\u001b[0m\n\u001b[0;32m      1\u001b[0m \u001b[0mprint\u001b[0m\u001b[1;33m(\u001b[0m\u001b[1;34m\"Akurasi =\"\u001b[0m\u001b[1;33m,\u001b[0m\u001b[0mcountAccuracyDriver\u001b[0m\u001b[1;33m(\u001b[0m\u001b[1;33m)\u001b[0m\u001b[1;33m)\u001b[0m\u001b[1;33m\u001b[0m\u001b[0m\n\u001b[1;32m----> 2\u001b[1;33m \u001b[0mprint\u001b[0m\u001b[1;33m(\u001b[0m\u001b[1;34m\"Precision = \"\u001b[0m\u001b[1;33m,\u001b[0m\u001b[0mprecisionDriver\u001b[0m\u001b[1;33m(\u001b[0m\u001b[1;33m)\u001b[0m\u001b[1;33m)\u001b[0m\u001b[1;33m\u001b[0m\u001b[0m\n\u001b[0m\u001b[0;32m      3\u001b[0m \u001b[0mprint\u001b[0m\u001b[1;33m(\u001b[0m\u001b[1;34m\"Recall = \"\u001b[0m\u001b[1;33m,\u001b[0m\u001b[0mrecallDriver\u001b[0m\u001b[1;33m(\u001b[0m\u001b[1;33m)\u001b[0m\u001b[1;33m)\u001b[0m\u001b[1;33m\u001b[0m\u001b[0m\n",
      "\u001b[1;32m<ipython-input-31-0491c45432cd>\u001b[0m in \u001b[0;36mprecisionDriver\u001b[1;34m()\u001b[0m\n\u001b[0;32m      6\u001b[0m     \u001b[1;32mglobal\u001b[0m \u001b[0mtotalPerusahaan\u001b[0m\u001b[1;33m;\u001b[0m\u001b[1;33m\u001b[0m\u001b[0m\n\u001b[0;32m      7\u001b[0m     \u001b[0minitialperusahaan\u001b[0m\u001b[1;33m(\u001b[0m\u001b[1;33m)\u001b[0m\u001b[1;33m\u001b[0m\u001b[0m\n\u001b[1;32m----> 8\u001b[1;33m     \u001b[1;32mreturn\u001b[0m \u001b[0mtotalPerusahaan\u001b[0m\u001b[1;33m[\u001b[0m\u001b[1;34m'comp_tp'\u001b[0m\u001b[1;33m]\u001b[0m\u001b[1;33m/\u001b[0m\u001b[1;33m(\u001b[0m\u001b[0mtotalPerusahaan\u001b[0m\u001b[1;33m[\u001b[0m\u001b[1;34m'comp_fp'\u001b[0m\u001b[1;33m]\u001b[0m\u001b[1;33m+\u001b[0m\u001b[0mtotalPerusahaan\u001b[0m\u001b[1;33m[\u001b[0m\u001b[1;34m'cust_tp'\u001b[0m\u001b[1;33m]\u001b[0m\u001b[1;33m)\u001b[0m\u001b[1;33m;\u001b[0m\u001b[1;33m\u001b[0m\u001b[0m\n\u001b[0m\u001b[0;32m      9\u001b[0m \u001b[1;32mdef\u001b[0m \u001b[0mrecallDriver\u001b[0m\u001b[1;33m(\u001b[0m\u001b[1;33m)\u001b[0m\u001b[1;33m:\u001b[0m\u001b[1;33m\u001b[0m\u001b[0m\n\u001b[0;32m     10\u001b[0m     \u001b[1;32mglobal\u001b[0m \u001b[0mtotalPerusahaan\u001b[0m\u001b[1;33m;\u001b[0m\u001b[1;33m\u001b[0m\u001b[0m\n",
      "\u001b[1;31mKeyError\u001b[0m: 'cust_tp'"
     ]
    }
   ],
   "source": [
    "print(\"Akurasi =\",countAccuracyDriver())\n",
    "print(\"Precision = \",precisionDriver())\n",
    "print(\"Recall = \",recallDriver())"
   ]
  },
  {
   "cell_type": "code",
   "execution_count": 1,
   "metadata": {},
   "outputs": [
    {
     "name": "stdout",
     "output_type": "stream",
     "text": [
      "Karina\n"
     ]
    }
   ],
   "source": [
    "print(\"Karina\")"
   ]
  },
  {
   "cell_type": "code",
   "execution_count": null,
   "metadata": {},
   "outputs": [],
   "source": []
  }
 ],
 "metadata": {
  "kernelspec": {
   "display_name": "Python 3",
   "language": "python",
   "name": "python3"
  },
  "language_info": {
   "codemirror_mode": {
    "name": "ipython",
    "version": 3
   },
   "file_extension": ".py",
   "mimetype": "text/x-python",
   "name": "python",
   "nbconvert_exporter": "python",
   "pygments_lexer": "ipython3",
   "version": "3.6.5"
  }
 },
 "nbformat": 4,
 "nbformat_minor": 2
}

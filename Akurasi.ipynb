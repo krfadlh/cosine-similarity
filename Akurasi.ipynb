{
 "cells": [
  {
   "cell_type": "code",
   "execution_count": 1,
   "metadata": {},
   "outputs": [],
   "source": [
    "import MySQLdb\n",
    "import matplotlib.pyplot as plt"
   ]
  },
  {
   "cell_type": "code",
   "execution_count": 2,
   "metadata": {},
   "outputs": [
    {
     "data": {
      "text/plain": [
       "0"
      ]
     },
     "execution_count": 2,
     "metadata": {},
     "output_type": "execute_result"
    }
   ],
   "source": [
    "hostname = \"localhost\"\n",
    "username = \"root\"\n",
    "password = \"\"\n",
    "db_name  = \"drama_ojol\"\n",
    "\n",
    "# Open database connection\n",
    "db = MySQLdb.connect(hostname,username,password,db_name)\n",
    "db.set_character_set('utf8')\n",
    "\n",
    "# prepare a cursor object using cursor() method\n",
    "cursor = db.cursor()\n",
    "cursor.execute('SET NAMES utf8;')\n",
    "cursor.execute('SET CHARACTER SET utf8;')\n",
    "cursor.execute('SET character_set_connection=utf8;')"
   ]
  },
  {
   "cell_type": "code",
   "execution_count": 3,
   "metadata": {},
   "outputs": [],
   "source": [
    "def executeSql(sql):\n",
    "    return cursor.execute(sql);\n",
    "\n",
    "def fetch(type='all'):\n",
    "    if type=='all':\n",
    "        return cursor.fetchall();\n",
    "    else:\n",
    "        return cursor.fetchone();\n",
    "def commit():\n",
    "    db.commit();\n",
    "\n",
    "def escapeString(string):\n",
    "    return MySQLdb.escape_string(string);\n",
    "\n",
    "totalAplikasi = {'app_tp':0,'app_tn':0,'app_fp':0,'app_fn':0};\n",
    "totalHarga = {'harga_tp':0,'harga_tn':0,'harga_fp':0,'harga_fn':0};\n",
    "totalDriver = {'driver_tp':0,'driver_tn':0,'driver_fp':0,'driver_fn':0};\n",
    "totalPenumpang = {'cust_tp':0,'cust_tn':0,'cust_fp':0,'cust_fn':0};\n",
    "totalPerusahaan = {'comp_tp':0,'comp_tn':0,'comp_fp':0,'comp_fn':0};"
   ]
  },
  {
   "cell_type": "markdown",
   "metadata": {},
   "source": [
    "# Hitung data untuk Akurasi Aplikasi"
   ]
  },
  {
   "cell_type": "code",
   "execution_count": 22,
   "metadata": {},
   "outputs": [],
   "source": [
    "def initialaplikasi():\n",
    "    global totalAplikasi;\n",
    "    sql = '''SELECT count(*)\n",
    "                FROM opinions WHERE cat_training IN (1) AND cat_result like \"aplikasi\" AND id < 999''';\n",
    "    executeSql(sql);\n",
    "    result = fetch('all');\n",
    "    totalAplikasi['app_tp'] = result[0][0];\n",
    "    \n",
    "    sql = '''SELECT count(*)\n",
    "                FROM opinions WHERE cat_training NOT IN (1) AND cat_result not like \"aplikasi\" AND id < 999''';\n",
    "    executeSql(sql);\n",
    "    result = fetch('all');\n",
    "    totalAplikasi['app_tn'] = result[0][0];\n",
    "    \n",
    "    sql = '''SELECT count(*)\n",
    "                FROM opinions WHERE cat_training NOT IN (1) AND cat_result like \"aplikasi\" AND id < 999''';\n",
    "    executeSql(sql);\n",
    "    result = fetch('all');\n",
    "    totalAplikasi['app_fp'] = result[0][0];\n",
    "    \n",
    "    sql = '''SELECT count(*)\n",
    "                FROM opinions WHERE cat_training IN (1) AND cat_result not like \"aplikasi\" AND id < 999''';\n",
    "    executeSql(sql);\n",
    "    result = fetch('all');\n",
    "    totalAplikasi['app_fn'] = result[0][0];\n",
    "    \n",
    "    print(\"TP = \",  totalAplikasi['app_tp'])\n",
    "    print(\"TN = \",  totalAplikasi['app_tn'])\n",
    "    print(\"FP = \",  totalAplikasi['app_fp'])\n",
    "    print(\"FN = \",  totalAplikasi['app_fn'])\n",
    "    \n",
    "    totalAplikasi['data'] = totalAplikasi['app_fn'] + totalAplikasi['app_fp'] + totalAplikasi['app_tn'] + totalAplikasi['app_tp'];"
   ]
  },
  {
   "cell_type": "markdown",
   "metadata": {},
   "source": [
    "# Hitung data untuk Akurasi Harga"
   ]
  },
  {
   "cell_type": "code",
   "execution_count": 23,
   "metadata": {},
   "outputs": [],
   "source": [
    "def initialharga():\n",
    "    global totalHarga;\n",
    "    sql = '''SELECT count(*)\n",
    "                FROM opinions WHERE cat_training IN (2) AND cat_result like \"harga\" AND id < 999''';\n",
    "    executeSql(sql);\n",
    "    result = fetch('all');\n",
    "    totalHarga['harga_tp'] = result[0][0];\n",
    "    \n",
    "    sql = '''SELECT count(*)\n",
    "                FROM opinions WHERE cat_training NOT IN (2) AND cat_result not like \"harga\" AND id < 999''';\n",
    "    executeSql(sql);\n",
    "    result = fetch('all');\n",
    "    totalHarga['harga_tn'] = result[0][0];\n",
    "    \n",
    "    sql = '''SELECT count(*)\n",
    "                FROM opinions WHERE cat_training IN (2) AND cat_result like \"harga\" AND id < 999''';\n",
    "    executeSql(sql);\n",
    "    result = fetch('all');\n",
    "    totalHarga['harga_fp'] = result[0][0];\n",
    "    \n",
    "    sql = '''SELECT count(*)\n",
    "                FROM opinions WHERE cat_training IN (2) AND cat_result not like \"harga\" AND id < 999''';\n",
    "    executeSql(sql);\n",
    "    result = fetch('all');\n",
    "    totalHarga['harga_fn'] = result[0][0];\n",
    "    \n",
    "    print(\"TP = \",  totalHarga['harga_tp'])\n",
    "    print(\"TN = \",  totalHarga['harga_tn'])\n",
    "    print(\"FP = \",  totalHarga['harga_fp'])\n",
    "    print(\"FN = \",  totalHarga['harga_fn'])\n",
    "    \n",
    "    totalHarga['data'] = totalHarga['harga_fn'] + totalHarga['harga_fp'] + totalHarga['harga_tn'] + totalHarga['harga_tp'];"
   ]
  },
  {
   "cell_type": "markdown",
   "metadata": {},
   "source": [
    "# Hitung data untuk Akurasi Driver"
   ]
  },
  {
   "cell_type": "code",
   "execution_count": 24,
   "metadata": {},
   "outputs": [],
   "source": [
    "def initialdriver():\n",
    "    global totalDriver;\n",
    "    sql = '''SELECT count(*)\n",
    "                FROM opinions WHERE cat_training IN (3) AND cat_result like \"driver\" AND id < 999''';\n",
    "    executeSql(sql);\n",
    "    result = fetch('all');\n",
    "    totalDriver['driver_tp'] = result[0][0];\n",
    "    \n",
    "    sql = '''SELECT count(*)\n",
    "                FROM opinions WHERE cat_training NOT IN (3) AND cat_result not like \"driver\" AND id < 999''';\n",
    "    executeSql(sql);\n",
    "    result = fetch('all');\n",
    "    totalDriver['driver_tn'] = result[0][0];\n",
    "    \n",
    "    sql = '''SELECT count(*)\n",
    "                FROM opinions WHERE cat_training NOT IN (3) AND cat_result like \"driver\" AND id < 999''';\n",
    "    executeSql(sql);\n",
    "    result = fetch('all');\n",
    "    totalDriver['driver_fp'] = result[0][0];\n",
    "    \n",
    "    sql = '''SELECT count(*)\n",
    "                FROM opinions WHERE cat_training IN (3) AND cat_result not like \"driver\" AND id < 999''';\n",
    "    executeSql(sql);\n",
    "    result = fetch('all');\n",
    "    totalDriver['driver_fn'] = result[0][0];\n",
    "    \n",
    "    print(\"TP = \",  totalDriver['driver_tp'])\n",
    "    print(\"TN = \",  totalDriver['driver_tn'])\n",
    "    print(\"FP = \",  totalDriver['driver_fp'])\n",
    "    print(\"FN = \",  totalDriver['driver_fn'])\n",
    "    \n",
    "    totalDriver['data'] = totalDriver['driver_fn'] + totalDriver['driver_fp'] + totalDriver['driver_tn'] + totalDriver['driver_tp'];"
   ]
  },
  {
   "cell_type": "markdown",
   "metadata": {},
   "source": [
    "# Hitung data untuk Akurasi Penumpang"
   ]
  },
  {
   "cell_type": "code",
   "execution_count": 25,
   "metadata": {},
   "outputs": [],
   "source": [
    "def initialpenumpang():\n",
    "    global totalPenumpang;\n",
    "    sql = '''SELECT count(*)\n",
    "                FROM opinions WHERE cat_training IN (4) AND cat_result like \"penumpang\" AND id < 999''';\n",
    "    executeSql(sql);\n",
    "    result = fetch('all');\n",
    "    totalPenumpang['cust_tp'] = result[0][0];\n",
    "    \n",
    "    sql = '''SELECT count(*)\n",
    "                FROM opinions WHERE cat_training NOT IN (4) AND cat_result not like \"penumpang\" AND id < 999''';\n",
    "    executeSql(sql);\n",
    "    result = fetch('all');\n",
    "    totalPenumpang['cust_tn'] = result[0][0];\n",
    "    \n",
    "    sql = '''SELECT count(*)\n",
    "                FROM opinions WHERE cat_training NOT IN (4) AND cat_result like \"penumpang\" AND id < 999''';\n",
    "    executeSql(sql);\n",
    "    result = fetch('all');\n",
    "    totalPenumpang['cust_fp'] = result[0][0];\n",
    "    \n",
    "    sql = '''SELECT count(*)\n",
    "                FROM opinions WHERE cat_training IN (4) AND cat_result not like \"penumpang\" AND id < 999''';\n",
    "    executeSql(sql);\n",
    "    result = fetch('all');\n",
    "    totalPenumpang['cust_fn'] = result[0][0];\n",
    "    \n",
    "    print(\"TP = \",  totalPenumpang['cust_tp'])\n",
    "    print(\"TN = \",  totalPenumpang['cust_tn'])\n",
    "    print(\"FP = \",  totalPenumpang['cust_fp'])\n",
    "    print(\"FN = \",  totalPenumpang['cust_fn'])\n",
    "    \n",
    "    totalPenumpang['data'] = totalPenumpang['cust_fn'] + totalPenumpang['cust_fp'] + totalPenumpang['cust_tn'] + totalPenumpang['cust_tp'];"
   ]
  },
  {
   "cell_type": "markdown",
   "metadata": {},
   "source": [
    "# Hitung data untuk Akurasi Perusahaan"
   ]
  },
  {
   "cell_type": "code",
   "execution_count": 26,
   "metadata": {},
   "outputs": [],
   "source": [
    "def initialperusahaan():\n",
    "    global totalPerusahaan;\n",
    "    sql = '''SELECT count(*)\n",
    "                FROM opinions WHERE cat_training IN (5) AND cat_result like \"perusahaan\" AND id < 999''';\n",
    "    executeSql(sql);\n",
    "    result = fetch('all');\n",
    "    totalPerusahaan['comp_tp'] = result[0][0];\n",
    "    \n",
    "    sql = '''SELECT count(*)\n",
    "                FROM opinions WHERE cat_training NOT IN (5) AND cat_result not like \"perusahaan\" AND id < 999''';\n",
    "    executeSql(sql);\n",
    "    result = fetch('all');\n",
    "    totalPerusahaan['comp_tn'] = result[0][0];\n",
    "    \n",
    "    sql = '''SELECT count(*)\n",
    "                FROM opinions WHERE cat_training NOT IN (5) AND cat_result like \"perusahaan\" AND id < 999''';\n",
    "    executeSql(sql);\n",
    "    result = fetch('all');\n",
    "    totalPerusahaan['comp_fp'] = result[0][0];\n",
    "    \n",
    "    sql = '''SELECT count(*)\n",
    "                FROM opinions WHERE cat_training IN (5) AND cat_result not like \"perusahaan\" AND id < 999''';\n",
    "    executeSql(sql);\n",
    "    result = fetch('all');\n",
    "    totalPerusahaan['comp_fn'] = result[0][0];\n",
    "    \n",
    "    print(\"TP = \",  totalPerusahaan['comp_tp'])\n",
    "    print(\"TN = \",  totalPerusahaan['comp_tn'])\n",
    "    print(\"FP = \",  totalPerusahaan['comp_fp'])\n",
    "    print(\"FN = \",  totalPerusahaan['comp_fn'])\n",
    "    \n",
    "    totalPerusahaan['data'] = totalPerusahaan['comp_fn'] + totalPerusahaan['comp_fp'] + totalPerusahaan['comp_tn'] + totalPerusahaan['comp_tp'];"
   ]
  },
  {
   "cell_type": "markdown",
   "metadata": {},
   "source": [
    "# Fungsi Akurasi Aplikasi"
   ]
  },
  {
   "cell_type": "code",
   "execution_count": 27,
   "metadata": {},
   "outputs": [],
   "source": [
    "def countAccuracyApp():   \n",
    "    global totalAplikasi;\n",
    "    initialaplikasi()\n",
    "    return (totalAplikasi['app_tn']+totalAplikasi['app_tp'])/totalAplikasi['data'];\n",
    "def precisionApp():\n",
    "    global totalAplikasi;\n",
    "    initialaplikasi()\n",
    "    return totalAplikasi['app_tp']/(totalAplikasi['app_fp']+totalAplikasi['app_tp']);\n",
    "def recallApp():\n",
    "    global totalAplikasi;\n",
    "    initialaplikasi()\n",
    "    return totalAplikasi['app_tp']/(totalAplikasi['app_fn']+totalAplikasi['app_tp']);"
   ]
  },
  {
   "cell_type": "markdown",
   "metadata": {},
   "source": [
    "# Fungsi Akurasi Harga"
   ]
  },
  {
   "cell_type": "code",
   "execution_count": 28,
   "metadata": {},
   "outputs": [],
   "source": [
    "def countAccuracyHarga():   \n",
    "    global totalHarga;\n",
    "    initialharga()\n",
    "    return (totalHarga['harga_tn']+totalHarga['harga_tp'])/totalHarga['data'];\n",
    "def precisionHarga():\n",
    "    global totalHarga;\n",
    "    initialharga()\n",
    "    return totalHarga['harga_tp']/(totalHarga['harga_fp']+totalHarga['harga_tp']);\n",
    "def recallHarga():\n",
    "    global totalHarga;\n",
    "    initialharga()\n",
    "    return totalHarga['harga_tp']/(totalHarga['harga_fn']+totalHarga['harga_tp']);"
   ]
  },
  {
   "cell_type": "markdown",
   "metadata": {},
   "source": [
    "# Fungsi Akurasi Driver"
   ]
  },
  {
   "cell_type": "code",
   "execution_count": 29,
   "metadata": {},
   "outputs": [],
   "source": [
    "def countAccuracyDriver():   \n",
    "    global totalDriver;\n",
    "    initialdriver()\n",
    "    return (totalDriver['driver_tn']+totalDriver['driver_tp'])/totalDriver['data'];\n",
    "def precisionDriver():\n",
    "    global totalDriver;\n",
    "    initialdriver()\n",
    "    return totalDriver['driver_tp']/(totalDriver['driver_fp']+totalDriver['driver_tp']);\n",
    "def recallDriver():\n",
    "    global totalDriver;\n",
    "    initialdriver()\n",
    "    return totalDriver['driver_tp']/(totalDriver['driver_fn']+totalDriver['driver_tp']);"
   ]
  },
  {
   "cell_type": "markdown",
   "metadata": {},
   "source": [
    "# Fungsi Akurasi Penumpang"
   ]
  },
  {
   "cell_type": "code",
   "execution_count": 30,
   "metadata": {},
   "outputs": [],
   "source": [
    "def countAccuracyPenumpang():   \n",
    "    global totalPenumpang;\n",
    "    initialpenumpang()\n",
    "    return (totalPenumpang['cust_tn']+totalPenumpang['cust_tp'])/totalPenumpang['data'];\n",
    "def precisionPenumpang():\n",
    "    global totalPenumpang;\n",
    "    initialpenumpang()\n",
    "    return totalPenumpang['cust_tp']/(totalPenumpang['cust_fp']+totalPenumpang['cust_tp']);\n",
    "def recallPenumpang():\n",
    "    global totalPenumpang;\n",
    "    initialpenumpang()\n",
    "    return totalPenumpang['cust_tp']/(totalPenumpang['cust_fn']+totalPenumpang['cust_tp']);"
   ]
  },
  {
   "cell_type": "markdown",
   "metadata": {},
   "source": [
    "# Fungsi Akurasi Perusahaan"
   ]
  },
  {
   "cell_type": "code",
   "execution_count": 31,
   "metadata": {},
   "outputs": [],
   "source": [
    "def countAccuracyPerusahaan():   \n",
    "    global totalPerusahaan;\n",
    "    initialperusahaan()\n",
    "    return (totalPerusahaan['comp_tn']+totalPerusahaan['comp_tp'])/totalPerusahaan['data'];\n",
    "def precisionPerusahaan():\n",
    "    global totalPerusahaan;\n",
    "    initialperusahaan()\n",
    "    return totalPerusahaan['comp_tp']/(totalPerusahaan['comp_fp']+totalPerusahaan['comp_tp']);\n",
    "def recallPerusahaan():\n",
    "    global totalPerusahaan;\n",
    "    initialperusahaan()\n",
    "    return totalPerusahaan['comp_tp']/(totalPerusahaan['comp_fn']+totalPerusahaan['comp_tp']);"
   ]
  },
  {
   "cell_type": "markdown",
   "metadata": {},
   "source": [
    "# Akurasi Aplikasi"
   ]
  },
  {
   "cell_type": "code",
   "execution_count": 32,
   "metadata": {},
   "outputs": [
    {
     "name": "stdout",
     "output_type": "stream",
     "text": [
      "TP =  126\n",
      "TN =  581\n",
      "FP =  49\n",
      "FN =  242\n",
      "Akurasi = 0.7084168336673347\n",
      "TP =  126\n",
      "TN =  581\n",
      "FP =  49\n",
      "FN =  242\n",
      "Precision =  0.72\n",
      "TP =  126\n",
      "TN =  581\n",
      "FP =  49\n",
      "FN =  242\n",
      "Recall =  0.3423913043478261\n"
     ]
    }
   ],
   "source": [
    "print(\"Akurasi =\",countAccuracyApp())\n",
    "print(\"Precision = \",precisionApp())\n",
    "print(\"Recall = \",recallApp())"
   ]
  },
  {
   "cell_type": "markdown",
   "metadata": {},
   "source": [
    "# Akurasi Harga"
   ]
  },
  {
   "cell_type": "code",
   "execution_count": 33,
   "metadata": {},
   "outputs": [
    {
     "name": "stdout",
     "output_type": "stream",
     "text": [
      "TP =  32\n",
      "TN =  893\n",
      "FP =  32\n",
      "FN =  32\n",
      "Akurasi = 0.9352881698685541\n",
      "TP =  32\n",
      "TN =  893\n",
      "FP =  32\n",
      "FN =  32\n",
      "Precision =  0.5\n",
      "TP =  32\n",
      "TN =  893\n",
      "FP =  32\n",
      "FN =  32\n",
      "Recall =  0.5\n"
     ]
    }
   ],
   "source": [
    "print(\"Akurasi =\",countAccuracyHarga())\n",
    "print(\"Precision = \",precisionHarga())\n",
    "print(\"Recall = \",recallHarga())"
   ]
  },
  {
   "cell_type": "markdown",
   "metadata": {},
   "source": [
    "# Akurasi Driver"
   ]
  },
  {
   "cell_type": "code",
   "execution_count": 34,
   "metadata": {},
   "outputs": [
    {
     "name": "stdout",
     "output_type": "stream",
     "text": [
      "TP =  162\n",
      "TN =  564\n",
      "FP =  160\n",
      "FN =  112\n",
      "Akurasi = 0.7274549098196392\n",
      "TP =  162\n",
      "TN =  564\n",
      "FP =  160\n",
      "FN =  112\n",
      "Precision =  0.5031055900621118\n",
      "TP =  162\n",
      "TN =  564\n",
      "FP =  160\n",
      "FN =  112\n",
      "Recall =  0.5912408759124088\n"
     ]
    }
   ],
   "source": [
    "print(\"Akurasi =\",countAccuracyDriver())\n",
    "print(\"Precision = \",precisionDriver())\n",
    "print(\"Recall = \",recallDriver())"
   ]
  },
  {
   "cell_type": "markdown",
   "metadata": {},
   "source": [
    "# Akurasi Penumpang"
   ]
  },
  {
   "cell_type": "code",
   "execution_count": 35,
   "metadata": {},
   "outputs": [
    {
     "name": "stdout",
     "output_type": "stream",
     "text": [
      "TP =  7\n",
      "TN =  900\n",
      "FP =  82\n",
      "FN =  9\n",
      "Akurasi = 0.908817635270541\n",
      "TP =  7\n",
      "TN =  900\n",
      "FP =  82\n",
      "FN =  9\n",
      "Precision =  0.07865168539325842\n",
      "TP =  7\n",
      "TN =  900\n",
      "FP =  82\n",
      "FN =  9\n",
      "Recall =  0.4375\n"
     ]
    }
   ],
   "source": [
    "print(\"Akurasi =\",countAccuracyPenumpang())\n",
    "print(\"Precision = \",precisionPenumpang())\n",
    "print(\"Recall = \",recallPenumpang())"
   ]
  },
  {
   "cell_type": "markdown",
   "metadata": {},
   "source": [
    "# Akurasi Perusahaan"
   ]
  },
  {
   "cell_type": "code",
   "execution_count": 36,
   "metadata": {},
   "outputs": [
    {
     "name": "stdout",
     "output_type": "stream",
     "text": [
      "TP =  67\n",
      "TN =  645\n",
      "FP =  104\n",
      "FN =  182\n",
      "Akurasi = 0.7134268537074149\n",
      "TP =  67\n",
      "TN =  645\n",
      "FP =  104\n",
      "FN =  182\n",
      "Precision =  0.391812865497076\n",
      "TP =  67\n",
      "TN =  645\n",
      "FP =  104\n",
      "FN =  182\n",
      "Recall =  0.26907630522088355\n"
     ]
    }
   ],
   "source": [
    "print(\"Akurasi =\",countAccuracyPerusahaan())\n",
    "print(\"Precision = \",precisionPerusahaan())\n",
    "print(\"Recall = \",recallPerusahaan())"
   ]
  },
  {
   "cell_type": "markdown",
   "metadata": {},
   "source": [
    "# Py Conffusion Matrix"
   ]
  },
  {
   "cell_type": "code",
   "execution_count": 1,
   "metadata": {},
   "outputs": [],
   "source": [
    "from sklearn.metrics import confusion_matrix\n",
    "import pandas as pd\n",
    "from pandas_ml import ConfusionMatrix"
   ]
  },
  {
   "cell_type": "code",
   "execution_count": 9,
   "metadata": {},
   "outputs": [
    {
     "data": {
      "text/plain": [
       "(6144, 14)"
      ]
     },
     "execution_count": 9,
     "metadata": {},
     "output_type": "execute_result"
    }
   ],
   "source": [
    "data = pd.read_csv('opinions.csv', delimiter=',')\n",
    "data.shape"
   ]
  },
  {
   "cell_type": "code",
   "execution_count": 13,
   "metadata": {},
   "outputs": [],
   "source": [
    "manual = data['cat_training'][data['id'] < 999]\n",
    "sistem = data['cat_result'][data['id'] < 999]"
   ]
  },
  {
   "cell_type": "code",
   "execution_count": 14,
   "metadata": {},
   "outputs": [],
   "source": [
    "confusion_matrix(manual, sistem)\n",
    "df_confusion = pd.crosstab(manual, sistem, margins=True)"
   ]
  },
  {
   "cell_type": "code",
   "execution_count": 15,
   "metadata": {},
   "outputs": [
    {
     "data": {
      "text/html": [
       "<div>\n",
       "<style scoped>\n",
       "    .dataframe tbody tr th:only-of-type {\n",
       "        vertical-align: middle;\n",
       "    }\n",
       "\n",
       "    .dataframe tbody tr th {\n",
       "        vertical-align: top;\n",
       "    }\n",
       "\n",
       "    .dataframe thead th {\n",
       "        text-align: right;\n",
       "    }\n",
       "</style>\n",
       "<table border=\"1\" class=\"dataframe\">\n",
       "  <thead>\n",
       "    <tr style=\"text-align: right;\">\n",
       "      <th>cat_result</th>\n",
       "      <th>1.0</th>\n",
       "      <th>2.0</th>\n",
       "      <th>3.0</th>\n",
       "      <th>4.0</th>\n",
       "      <th>5.0</th>\n",
       "      <th>6.0</th>\n",
       "      <th>All</th>\n",
       "    </tr>\n",
       "    <tr>\n",
       "      <th>cat_training</th>\n",
       "      <th></th>\n",
       "      <th></th>\n",
       "      <th></th>\n",
       "      <th></th>\n",
       "      <th></th>\n",
       "      <th></th>\n",
       "      <th></th>\n",
       "    </tr>\n",
       "  </thead>\n",
       "  <tbody>\n",
       "    <tr>\n",
       "      <th>1.0</th>\n",
       "      <td>125</td>\n",
       "      <td>29</td>\n",
       "      <td>81</td>\n",
       "      <td>36</td>\n",
       "      <td>60</td>\n",
       "      <td>37</td>\n",
       "      <td>368</td>\n",
       "    </tr>\n",
       "    <tr>\n",
       "      <th>2.0</th>\n",
       "      <td>2</td>\n",
       "      <td>31</td>\n",
       "      <td>15</td>\n",
       "      <td>3</td>\n",
       "      <td>10</td>\n",
       "      <td>3</td>\n",
       "      <td>64</td>\n",
       "    </tr>\n",
       "    <tr>\n",
       "      <th>3.0</th>\n",
       "      <td>16</td>\n",
       "      <td>1</td>\n",
       "      <td>162</td>\n",
       "      <td>26</td>\n",
       "      <td>28</td>\n",
       "      <td>41</td>\n",
       "      <td>274</td>\n",
       "    </tr>\n",
       "    <tr>\n",
       "      <th>4.0</th>\n",
       "      <td>2</td>\n",
       "      <td>0</td>\n",
       "      <td>6</td>\n",
       "      <td>7</td>\n",
       "      <td>1</td>\n",
       "      <td>0</td>\n",
       "      <td>16</td>\n",
       "    </tr>\n",
       "    <tr>\n",
       "      <th>5.0</th>\n",
       "      <td>29</td>\n",
       "      <td>10</td>\n",
       "      <td>50</td>\n",
       "      <td>14</td>\n",
       "      <td>66</td>\n",
       "      <td>81</td>\n",
       "      <td>250</td>\n",
       "    </tr>\n",
       "    <tr>\n",
       "      <th>6.0</th>\n",
       "      <td>2</td>\n",
       "      <td>0</td>\n",
       "      <td>9</td>\n",
       "      <td>2</td>\n",
       "      <td>7</td>\n",
       "      <td>6</td>\n",
       "      <td>26</td>\n",
       "    </tr>\n",
       "    <tr>\n",
       "      <th>All</th>\n",
       "      <td>176</td>\n",
       "      <td>71</td>\n",
       "      <td>323</td>\n",
       "      <td>88</td>\n",
       "      <td>172</td>\n",
       "      <td>168</td>\n",
       "      <td>998</td>\n",
       "    </tr>\n",
       "  </tbody>\n",
       "</table>\n",
       "</div>"
      ],
      "text/plain": [
       "cat_result    1.0  2.0  3.0  4.0  5.0  6.0  All\n",
       "cat_training                                   \n",
       "1.0           125   29   81   36   60   37  368\n",
       "2.0             2   31   15    3   10    3   64\n",
       "3.0            16    1  162   26   28   41  274\n",
       "4.0             2    0    6    7    1    0   16\n",
       "5.0            29   10   50   14   66   81  250\n",
       "6.0             2    0    9    2    7    6   26\n",
       "All           176   71  323   88  172  168  998"
      ]
     },
     "execution_count": 15,
     "metadata": {},
     "output_type": "execute_result"
    }
   ],
   "source": [
    "df_confusion"
   ]
  },
  {
   "cell_type": "code",
   "execution_count": 16,
   "metadata": {},
   "outputs": [
    {
     "name": "stderr",
     "output_type": "stream",
     "text": [
      "C:\\Users\\Brandon\\Anaconda3\\lib\\site-packages\\pandas_ml\\confusion_matrix\\stats.py:60: FutureWarning: supplying multiple axes to axis is deprecated and will be removed in a future version.\n",
      "  num = df[df > 1].dropna(axis=[0, 1], thresh=1).applymap(lambda n: choose(n, 2)).sum().sum() - np.float64(nis2 * njs2) / n2\n"
     ]
    },
    {
     "name": "stdout",
     "output_type": "stream",
     "text": [
      "Confusion Matrix:\n",
      "\n",
      "Predicted  1.0  2.0  3.0  4.0  5.0  6.0  __all__\n",
      "Actual                                          \n",
      "1.0        125   29   81   36   60   37      368\n",
      "2.0          2   31   15    3   10    3       64\n",
      "3.0         16    1  162   26   28   41      274\n",
      "4.0          2    0    6    7    1    0       16\n",
      "5.0         29   10   50   14   66   81      250\n",
      "6.0          2    0    9    2    7    6       26\n",
      "__all__    176   71  323   88  172  168      998\n",
      "\n",
      "\n",
      "Overall Statistics:\n",
      "\n",
      "Accuracy: 0.39779559118236474\n",
      "95% CI: (0.36726857253281914, 0.42892740166312293)\n",
      "No Information Rate: ToDo\n",
      "P-Value [Acc > NIR]: 4.9980041048655e-07\n",
      "Kappa: 0.24019842566764715\n",
      "Mcnemar's Test P-Value: ToDo\n",
      "\n",
      "\n",
      "Class Statistics:\n",
      "\n",
      "Classes                                      1.0        2.0       3.0  \\\n",
      "Population                                   998        998       998   \n",
      "P: Condition positive                        368         64       274   \n",
      "N: Condition negative                        630        934       724   \n",
      "Test outcome positive                        176         71       323   \n",
      "Test outcome negative                        822        927       675   \n",
      "TP: True Positive                            125         31       162   \n",
      "TN: True Negative                            579        894       563   \n",
      "FP: False Positive                            51         40       161   \n",
      "FN: False Negative                           243         33       112   \n",
      "TPR: (Sensitivity, hit rate, recall)    0.339674   0.484375  0.591241   \n",
      "TNR=SPC: (Specificity)                  0.919048   0.957173  0.777624   \n",
      "PPV: Pos Pred Value (Precision)         0.710227    0.43662  0.501548   \n",
      "NPV: Neg Pred Value                      0.70438   0.964401  0.834074   \n",
      "FPR: False-out                         0.0809524  0.0428266  0.222376   \n",
      "FDR: False Discovery Rate               0.289773    0.56338  0.498452   \n",
      "FNR: Miss Rate                          0.660326   0.515625  0.408759   \n",
      "ACC: Accuracy                           0.705411   0.926854  0.726453   \n",
      "F1 score                                0.459559   0.459259  0.542714   \n",
      "MCC: Matthews correlation coefficient   0.327518   0.420797  0.351851   \n",
      "Informedness                            0.258722   0.441548  0.368865   \n",
      "Markedness                              0.414607   0.401021  0.335622   \n",
      "Prevalence                              0.368737  0.0641283  0.274549   \n",
      "LR+: Positive likelihood ratio           4.19597    11.3102   2.65875   \n",
      "LR-: Negative likelihood ratio           0.71849   0.538695  0.525651   \n",
      "DOR: Diagnostic odds ratio               5.83999    20.9955   5.05801   \n",
      "FOR: False omission rate                 0.29562  0.0355987  0.165926   \n",
      "\n",
      "Classes                                       4.0       5.0        6.0  \n",
      "Population                                    998       998        998  \n",
      "P: Condition positive                          16       250         26  \n",
      "N: Condition negative                         982       748        972  \n",
      "Test outcome positive                          88       172        168  \n",
      "Test outcome negative                         910       826        830  \n",
      "TP: True Positive                               7        66          6  \n",
      "TN: True Negative                             901       642        810  \n",
      "FP: False Positive                             81       106        162  \n",
      "FN: False Negative                              9       184         20  \n",
      "TPR: (Sensitivity, hit rate, recall)       0.4375     0.264   0.230769  \n",
      "TNR=SPC: (Specificity)                   0.917515  0.858289   0.833333  \n",
      "PPV: Pos Pred Value (Precision)         0.0795455  0.383721  0.0357143  \n",
      "NPV: Neg Pred Value                       0.99011   0.77724   0.975904  \n",
      "FPR: False-out                          0.0824847  0.141711   0.166667  \n",
      "FDR: False Discovery Rate                0.920455  0.616279   0.964286  \n",
      "FNR: Miss Rate                             0.5625     0.736   0.769231  \n",
      "ACC: Accuracy                             0.90982  0.709419   0.817635  \n",
      "F1 score                                 0.134615  0.312796  0.0618557  \n",
      "MCC: Matthews correlation coefficient    0.157254  0.140299  0.0272899  \n",
      "Informedness                             0.355015  0.122289  0.0641026  \n",
      "Markedness                              0.0696553  0.160961  0.0116179  \n",
      "Prevalence                              0.0160321  0.250501  0.0260521  \n",
      "LR+: Positive likelihood ratio            5.30401   1.86294    1.38462  \n",
      "LR-: Negative likelihood ratio           0.613069   0.85752   0.923077  \n",
      "DOR: Diagnostic odds ratio                8.65158   2.17248        1.5  \n",
      "FOR: False omission rate               0.00989011   0.22276  0.0240964  \n"
     ]
    }
   ],
   "source": [
    "cm = ConfusionMatrix(manual, sistem)\n",
    "cm.print_stats()"
   ]
  },
  {
   "cell_type": "code",
   "execution_count": null,
   "metadata": {},
   "outputs": [],
   "source": []
  }
 ],
 "metadata": {
  "kernelspec": {
   "display_name": "Python 3",
   "language": "python",
   "name": "python3"
  },
  "language_info": {
   "codemirror_mode": {
    "name": "ipython",
    "version": 3
   },
   "file_extension": ".py",
   "mimetype": "text/x-python",
   "name": "python",
   "nbconvert_exporter": "python",
   "pygments_lexer": "ipython3",
   "version": "3.6.5"
  }
 },
 "nbformat": 4,
 "nbformat_minor": 2
}

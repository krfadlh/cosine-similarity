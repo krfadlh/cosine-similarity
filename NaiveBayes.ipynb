{
 "cells": [
  {
   "cell_type": "code",
   "execution_count": 167,
   "metadata": {},
   "outputs": [],
   "source": [
    "import re\n",
    "import csv\n",
    "import pickle\n",
    "import pandas as pd\n",
    "import numpy as np\n",
    "from sklearn.feature_extraction.text import TfidfVectorizer\n",
    "#from sklearn.feature_extraction.text import CountVectorizer\n",
    "from sklearn.metrics import roc_auc_score\n",
    "#from sklearn.linear_model import LogisticRegression\n",
    "from sklearn.naive_bayes import MultinomialNB\n",
    "from sklearn.metrics import confusion_matrix\n",
    "from sklearn.metrics import accuracy_score\n",
    "from datetime import datetime\n",
    "from elasticsearch import Elasticsearch #pip install Elasticsearch if not intalled yet\n",
    "import json\n",
    "import calendar\n",
    "import matplotlib.pyplot as plt\n",
    "%matplotlib inline\n",
    "\n",
    "totalNaive = {'positif':0,'negatif':0,'netral':0,'data':0};"
   ]
  },
  {
   "cell_type": "code",
   "execution_count": 168,
   "metadata": {},
   "outputs": [],
   "source": [
    "df = pd.read_csv('out.csv', delimiter=',', index_col = False, encoding = \"ISO-8859-1\" )\n",
    "Posit = df.loc[df['Sentiment'] == 1].count()\n",
    "TempPos = Posit['Sentiment']\n",
    "\n",
    "Negat = df.loc[df['Sentiment'] == -1].count()\n",
    "TempNeg =  Negat['Sentiment']\n",
    "\n",
    "Neutr = df.loc[df['Sentiment'] == 0].count()\n",
    "TempNeutr = Neutr['Sentiment']\n",
    "# print(TempNeutr)"
   ]
  },
  {
   "cell_type": "code",
   "execution_count": 175,
   "metadata": {},
   "outputs": [],
   "source": [
    "def initial():\n",
    "    global totalNaive;\n",
    "    totalNaive['positif'] = TempPos\n",
    "    totalNaive['negatif'] = TempNeg\n",
    "    totalNaive['netral'] = TempNeutr\n",
    "\n",
    "    totalNaive['data'] = totalNaive['positif'] + totalNaive['negatif'] + totalNaive['netral'];"
   ]
  },
  {
   "cell_type": "code",
   "execution_count": 428,
   "metadata": {},
   "outputs": [],
   "source": [
    "def probably(word,senti):\n",
    "    global totalNaive;\n",
    "    initial()\n",
    "    #try:\n",
    "    #    inWord = df['Mentions'].where(df['Sentiment'] == senti).str.contains(word).value_counts().values[1]\n",
    "    #except:\n",
    "    #    inWord = 0\n",
    "    try:\n",
    "        inWord = df['Mentions'].where(df['Sentiment'] == senti).str.contains(word).value_counts()[True]\n",
    "    except:\n",
    "        inWord = 0\n",
    "    if(senti == 1):\n",
    "        return (inWord/totalNaive['positif']) * (totalNaive['positif']/totalNaive['data']);\n",
    "    elif(senti == -1):\n",
    "        return (inWord/totalNaive['negatif']) * (totalNaive['negatif']/totalNaive['data']);\n",
    "    elif(senti == 0):\n",
    "        return (inWord/totalNaive['netral']) * (totalNaive['netral']/totalNaive['data']);"
   ]
  },
  {
   "cell_type": "code",
   "execution_count": 429,
   "metadata": {},
   "outputs": [],
   "source": [
    "def counting(word):\n",
    "    pPos    = probably(word,1);\n",
    "    pNeg    = probably(word,-1);\n",
    "    pNetral = probably(word,0);\n",
    "    \n",
    "    if(pPos >= pNeg):\n",
    "        if(pPos >= pNetral):\n",
    "            result = 1;\n",
    "        else:\n",
    "            if(pNeg >= pNetral):\n",
    "                result = -1;\n",
    "            else:\n",
    "                result = 0;\n",
    "    elif(pNeg >= pNetral):\n",
    "        result = -1;\n",
    "    else:\n",
    "        result = 0;\n",
    "\n",
    "    # print pPos;\n",
    "    # print pNeg;\n",
    "    # print pNetral;\n",
    "    # print result;\n",
    "    # print \"===========\";\n",
    "    return result;"
   ]
  },
  {
   "cell_type": "code",
   "execution_count": 430,
   "metadata": {},
   "outputs": [],
   "source": [
    "def play(sentence):\n",
    "    sentence = sentence.lower()\n",
    "    sentence=sentence.split(\" \")\n",
    "    sentiment = 0;\n",
    "    for word in sentence:\n",
    "        sentiment = sentiment + counting(word);\n",
    "        print(word,counting(word),sentiment)\n",
    "    \n",
    "    if(sentiment > 0):\n",
    "        return 1;\n",
    "    elif(sentiment < 0):\n",
    "        return -1;\n",
    "    else:\n",
    "        return 0;"
   ]
  },
  {
   "cell_type": "code",
   "execution_count": 431,
   "metadata": {},
   "outputs": [
    {
     "name": "stdout",
     "output_type": "stream",
     "text": [
      "ancaman 0 0\n",
      "gugatan 0 0\n",
      "dilayangkan 0 0\n",
      "partai -1 -1\n",
      "berkarya -1 -2\n",
      "jurubicara 0 -2\n",
      "tkn -1 -3\n",
      "ahmad -1 -4\n",
      "basarah 0 -4\n",
      "memancing 0 -4\n",
      "kemarahan 0 -4\n"
     ]
    },
    {
     "data": {
      "text/plain": [
       "-1"
      ]
     },
     "execution_count": 431,
     "metadata": {},
     "output_type": "execute_result"
    }
   ],
   "source": [
    "play(\"ancaman gugatan dilayangkan partai berkarya jurubicara tkn ahmad basarah memancing kemarahan\")"
   ]
  },
  {
   "cell_type": "code",
   "execution_count": null,
   "metadata": {},
   "outputs": [],
   "source": []
  },
  {
   "cell_type": "code",
   "execution_count": null,
   "metadata": {},
   "outputs": [],
   "source": []
  }
 ],
 "metadata": {
  "kernelspec": {
   "display_name": "Python 3",
   "language": "python",
   "name": "python3"
  },
  "language_info": {
   "codemirror_mode": {
    "name": "ipython",
    "version": 3
   },
   "file_extension": ".py",
   "mimetype": "text/x-python",
   "name": "python",
   "nbconvert_exporter": "python",
   "pygments_lexer": "ipython3",
   "version": "3.7.1"
  }
 },
 "nbformat": 4,
 "nbformat_minor": 2
}
